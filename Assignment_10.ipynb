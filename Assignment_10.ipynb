{
 "cells": [
  {
   "cell_type": "markdown",
   "id": "06544d96",
   "metadata": {},
   "source": [
    "# 1. How do you distinguish between shutil.copy() and shutil.copytree()?"
   ]
  },
  {
   "cell_type": "code",
   "execution_count": null,
   "id": "421f8b18",
   "metadata": {},
   "outputs": [],
   "source": [
    "shutil.copy() is used to copy a single file from one location to another. \n",
    "It takes two arguments: the source file to be copied, and the destination file to which the source file should be copied.\n",
    "If the destination file already exists, it will be overwritten. If the destination file does not exist, it will be created.\n",
    "\n",
    "shutil.copytree() is used to copy an entire directory tree from one location to another.\n",
    "It takes two arguments: the source directory to be copied, and the destination directory to which the source\n",
    "directory should be copied. If the destination directory already exists, an error will be raised. If the destination directory\n",
    "does not exist, it will be created. The function will copy all files and subdirectories within the source directory\n",
    "recursively, preserving their structure and attributes."
   ]
  },
  {
   "cell_type": "markdown",
   "id": "97bc5a67",
   "metadata": {},
   "source": [
    "# 2. What function is used to rename files?"
   ]
  },
  {
   "cell_type": "code",
   "execution_count": 2,
   "id": "5a98a86f",
   "metadata": {},
   "outputs": [],
   "source": [
    "import os\n",
    "\n",
    "# Define the current and new file names\n",
    "current_file_name = \"old_name.txt\"\n",
    "new_file_name = \"new_name.txt\"\n",
    "\n",
    "# Rename the file\n",
    "os.rename(current_file_name, new_file_name)"
   ]
  },
  {
   "cell_type": "markdown",
   "id": "bbf5dd6c",
   "metadata": {},
   "source": [
    "# 3. What is the difference between the delete functions in the send2trash and shutil modules?"
   ]
  },
  {
   "cell_type": "code",
   "execution_count": null,
   "id": "39ad940b",
   "metadata": {},
   "outputs": [],
   "source": [
    "the send2trash module sends files or directories to the trash or recycle bin, providing a safety net in case of accidental\n",
    "deletions, while the shutil module provides functions for permanently deleting files or directories."
   ]
  },
  {
   "cell_type": "markdown",
   "id": "c5012860",
   "metadata": {},
   "source": [
    "# 4.ZipFile objects have a close() method just like File objects’ close() method. What ZipFile method is equivalent to File objects’ open() method?"
   ]
  },
  {
   "cell_type": "code",
   "execution_count": 6,
   "id": "b2d4dd2f",
   "metadata": {},
   "outputs": [
    {
     "name": "stdout",
     "output_type": "stream",
     "text": [
      "file not found \n"
     ]
    }
   ],
   "source": [
    "import zipfile\n",
    "\n",
    "# Open a zip archive file\n",
    "try:\n",
    "    with zipfile.ZipFile('example.zip', 'r') as myzip:\n",
    "        # Do something with the contents of the zip archive file\n",
    "        pass\n",
    "except:\n",
    "    print('file not found ')"
   ]
  },
  {
   "cell_type": "markdown",
   "id": "27e9f712",
   "metadata": {},
   "source": [
    "# 5. Create a programme that searches a folder tree for files with a certain file extension (such as .pdf  or .jpg). Copy these files from whatever location they are in to a new folder."
   ]
  },
  {
   "cell_type": "code",
   "execution_count": null,
   "id": "3113597f",
   "metadata": {},
   "outputs": [],
   "source": [
    "import os\n",
    "import shutil\n",
    "\n",
    "# Get the folder to search and the file extension to look for from the user\n",
    "folder_path = input(\"Enter the folder path to search: \")\n",
    "file_extension = input(\"Enter the file extension to search for (e.g., .pdf, .jpg): \")\n",
    "\n",
    "# Create the new folder to copy the files to\n",
    "new_folder_path = os.path.join(folder_path, \"NewFolder\")\n",
    "os.makedirs(new_folder_path, exist_ok=True)\n",
    "\n",
    "# Traverse the folder tree and copy files with the specified extension to the new folder\n",
    "for foldername, subfolders, filenames in os.walk(folder_path):\n",
    "    for filename in filenames:\n",
    "        if filename.endswith(file_extension):\n",
    "            file_path = os.path.join(foldername, filename)\n",
    "            shutil.copy(file_path, new_folder_path)\n",
    "            print(f\"Copied {filename} to {new_folder_path}\")"
   ]
  }
 ],
 "metadata": {
  "kernelspec": {
   "display_name": "Python 3 (ipykernel)",
   "language": "python",
   "name": "python3"
  },
  "language_info": {
   "codemirror_mode": {
    "name": "ipython",
    "version": 3
   },
   "file_extension": ".py",
   "mimetype": "text/x-python",
   "name": "python",
   "nbconvert_exporter": "python",
   "pygments_lexer": "ipython3",
   "version": "3.9.12"
  }
 },
 "nbformat": 4,
 "nbformat_minor": 5
}
